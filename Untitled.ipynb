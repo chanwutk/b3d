{
 "cells": [
  {
   "cell_type": "code",
   "execution_count": 1,
   "id": "eb234b26-a3ef-4148-a670-aede0425e026",
   "metadata": {},
   "outputs": [],
   "source": [
    "import jpype\n",
    "import jpype.imports"
   ]
  },
  {
   "cell_type": "code",
   "execution_count": 2,
   "id": "cfeb6998-e744-4214-9fe4-aa19b304564c",
   "metadata": {},
   "outputs": [],
   "source": [
    "jpype.startJVM(classpath=['DalsooBinPacking/target/dalsoopack-0.9-SNAPSHOT.jar'])"
   ]
  },
  {
   "cell_type": "code",
   "execution_count": 3,
   "id": "3d52e293-d90d-4876-9ab5-33db7b4aa039",
   "metadata": {},
   "outputs": [],
   "source": [
    "from whitegreen.dalsoo import PackedPoly, Bin"
   ]
  },
  {
   "cell_type": "code",
   "execution_count": null,
   "id": "96ed948d-bd6d-4de2-9cea-6a9ce7bcb90d",
   "metadata": {},
   "outputs": [],
   "source": [
    "bin = Bin([], 0, ??, 36 * 2, 1000, 1000, 0)"
   ]
  }
 ],
 "metadata": {
  "kernelspec": {
   "display_name": "Python 3 (ipykernel)",
   "language": "python",
   "name": "python3"
  },
  "language_info": {
   "codemirror_mode": {
    "name": "ipython",
    "version": 3
   },
   "file_extension": ".py",
   "mimetype": "text/x-python",
   "name": "python",
   "nbconvert_exporter": "python",
   "pygments_lexer": "ipython3",
   "version": "3.12.5"
  }
 },
 "nbformat": 4,
 "nbformat_minor": 5
}
