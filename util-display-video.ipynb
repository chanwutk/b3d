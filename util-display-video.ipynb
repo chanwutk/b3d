{
 "cells": [
  {
   "cell_type": "code",
   "execution_count": 2,
   "metadata": {},
   "outputs": [],
   "source": [
    "from IPython.display import Video\n",
    "import os"
   ]
  },
  {
   "cell_type": "code",
   "execution_count": 5,
   "metadata": {},
   "outputs": [],
   "source": [
    "FILENAME = \"jnc00.mp4.0.mp4\""
   ]
  },
  {
   "cell_type": "code",
   "execution_count": 10,
   "metadata": {},
   "outputs": [
    {
     "name": "stderr",
     "output_type": "stream",
     "text": [
      "ffmpeg version 4.4.2-0ubuntu0.22.04.1 Copyright (c) 2000-2021 the FFmpeg developers\n",
      "  built with gcc 11 (Ubuntu 11.2.0-19ubuntu1)\n",
      "  configuration: --prefix=/usr --extra-version=0ubuntu0.22.04.1 --toolchain=hardened --libdir=/usr/lib/x86_64-linux-gnu --incdir=/usr/include/x86_64-linux-gnu --arch=amd64 --enable-gpl --disable-stripping --enable-gnutls --enable-ladspa --enable-libaom --enable-libass --enable-libbluray --enable-libbs2b --enable-libcaca --enable-libcdio --enable-libcodec2 --enable-libdav1d --enable-libflite --enable-libfontconfig --enable-libfreetype --enable-libfribidi --enable-libgme --enable-libgsm --enable-libjack --enable-libmp3lame --enable-libmysofa --enable-libopenjpeg --enable-libopenmpt --enable-libopus --enable-libpulse --enable-librabbitmq --enable-librubberband --enable-libshine --enable-libsnappy --enable-libsoxr --enable-libspeex --enable-libsrt --enable-libssh --enable-libtheora --enable-libtwolame --enable-libvidstab --enable-libvorbis --enable-libvpx --enable-libwebp --enable-libx265 --enable-libxml2 --enable-libxvid --enable-libzimg --enable-libzmq --enable-libzvbi --enable-lv2 --enable-omx --enable-openal --enable-opencl --enable-opengl --enable-sdl2 --enable-pocketsphinx --enable-librsvg --enable-libmfx --enable-libdc1394 --enable-libdrm --enable-libiec61883 --enable-chromaprint --enable-frei0r --enable-libx264 --enable-shared\n",
      "  libavutil      56. 70.100 / 56. 70.100\n",
      "  libavcodec     58.134.100 / 58.134.100\n",
      "  libavformat    58. 76.100 / 58. 76.100\n",
      "  libavdevice    58. 13.100 / 58. 13.100\n",
      "  libavfilter     7.110.100 /  7.110.100\n",
      "  libswscale      5.  9.100 /  5.  9.100\n",
      "  libswresample   3.  9.100 /  3.  9.100\n",
      "  libpostproc    55.  9.100 / 55.  9.100\n",
      "Input #0, mov,mp4,m4a,3gp,3g2,mj2, from 'jnc00.mp4.0.mp4':\n",
      "  Metadata:\n",
      "    major_brand     : isom\n",
      "    minor_version   : 512\n",
      "    compatible_brands: isomiso2mp41\n",
      "    encoder         : Lavf59.27.100\n",
      "  Duration: 00:02:41.23, start: 0.000000, bitrate: 3528 kb/s\n",
      "  Stream #0:0(und): Video: mpeg4 (Simple Profile) (mp4v / 0x7634706D), yuv420p, 1344x756 [SAR 1:1 DAR 16:9], 3527 kb/s, 30 fps, 30 tbr, 15360 tbn, 30 tbc (default)\n",
      "    Metadata:\n",
      "      handler_name    : VideoHandler\n",
      "      vendor_id       : [0][0][0][0]\n",
      "Stream mapping:\n",
      "  Stream #0:0 -> #0:0 (mpeg4 (native) -> h264 (libx264))\n",
      "Press [q] to stop, [?] for help\n",
      "[libx264 @ 0x55fa28541d00] using SAR=1/1\n",
      "[libx264 @ 0x55fa28541d00] using cpu capabilities: MMX2 SSE2Fast SSSE3 SSE4.2 AVX FMA3 BMI2 AVX2\n",
      "[libx264 @ 0x55fa28541d00] profile High, level 3.2, 4:2:0, 8-bit\n",
      "[libx264 @ 0x55fa28541d00] 264 - core 163 r3060 5db6aa6 - H.264/MPEG-4 AVC codec - Copyleft 2003-2021 - http://www.videolan.org/x264.html - options: cabac=1 ref=3 deblock=1:0:0 analyse=0x3:0x113 me=hex subme=7 psy=1 psy_rd=1.00:0.00 mixed_ref=1 me_range=16 chroma_me=1 trellis=1 8x8dct=1 cqm=0 deadzone=21,11 fast_pskip=1 chroma_qp_offset=-2 threads=24 lookahead_threads=4 sliced_threads=0 nr=0 decimate=1 interlaced=0 bluray_compat=0 constrained_intra=0 bframes=3 b_pyramid=2 b_adapt=1 b_bias=0 direct=1 weightb=1 open_gop=0 weightp=2 keyint=250 keyint_min=25 scenecut=40 intra_refresh=0 rc_lookahead=40 rc=crf mbtree=1 crf=23.0 qcomp=0.60 qpmin=0 qpmax=69 qpstep=4 ip_ratio=1.40 aq=1:1.00\n",
      "Output #0, mp4, to 'jnc00.mp4.0.x264.mp4':\n",
      "  Metadata:\n",
      "    major_brand     : isom\n",
      "    minor_version   : 512\n",
      "    compatible_brands: isomiso2mp41\n",
      "    encoder         : Lavf58.76.100\n",
      "  Stream #0:0(und): Video: h264 (avc1 / 0x31637661), yuv420p(progressive), 1344x756 [SAR 1:1 DAR 16:9], q=2-31, 30 fps, 15360 tbn (default)\n",
      "    Metadata:\n",
      "      handler_name    : VideoHandler\n",
      "      vendor_id       : [0][0][0][0]\n",
      "      encoder         : Lavc58.134.100 libx264\n",
      "    Side data:\n",
      "      cpb: bitrate max/min/avg: 0/0/0 buffer size: 0 vbv_delay: N/A\n",
      "frame= 4837 fps=355 q=-1.0 Lsize=   17954kB time=00:02:41.13 bitrate= 912.8kbits/s speed=11.8x    \n",
      "video:17905kB audio:0kB subtitle:0kB other streams:0kB global headers:0kB muxing overhead: 0.270334%\n",
      "[libx264 @ 0x55fa28541d00] frame I:20    Avg QP:16.06  size: 44873\n",
      "[libx264 @ 0x55fa28541d00] frame P:2656  Avg QP:22.04  size:  5184\n",
      "[libx264 @ 0x55fa28541d00] frame B:2161  Avg QP:26.24  size:  1698\n",
      "[libx264 @ 0x55fa28541d00] consecutive B-frames: 30.7% 22.2% 21.0% 26.1%\n",
      "[libx264 @ 0x55fa28541d00] mb I  I16..4: 35.6% 55.9%  8.5%\n",
      "[libx264 @ 0x55fa28541d00] mb P  I16..4:  0.5%  1.8%  0.8%  P16..4:  6.6%  2.4%  1.6%  0.0%  0.0%    skip:86.2%\n",
      "[libx264 @ 0x55fa28541d00] mb B  I16..4:  0.2%  0.6%  0.1%  B16..8:  8.1%  0.8%  0.1%  direct: 0.4%  skip:89.7%  L0:53.4% L1:44.5% BI: 2.1%\n",
      "[libx264 @ 0x55fa28541d00] 8x8 transform intra:57.6% inter:71.6%\n",
      "[libx264 @ 0x55fa28541d00] coded y,uvDC,uvAC intra: 47.8% 55.6% 28.7% inter: 2.1% 3.3% 1.9%\n",
      "[libx264 @ 0x55fa28541d00] i16 v,h,dc,p: 42% 47%  9%  2%\n",
      "[libx264 @ 0x55fa28541d00] i8 v,h,dc,ddl,ddr,vr,hd,vl,hu: 13% 34% 34%  2%  2%  1%  9%  1%  5%\n",
      "[libx264 @ 0x55fa28541d00] i4 v,h,dc,ddl,ddr,vr,hd,vl,hu: 27% 38% 13%  2%  3%  2% 10%  2%  4%\n",
      "[libx264 @ 0x55fa28541d00] i8c dc,h,v,p: 34% 42% 23%  1%\n",
      "[libx264 @ 0x55fa28541d00] Weighted P-Frames: Y:0.0% UV:0.0%\n",
      "[libx264 @ 0x55fa28541d00] ref P L0: 69.5%  9.1% 14.1%  7.3%\n",
      "[libx264 @ 0x55fa28541d00] ref B L0: 81.4% 15.6%  2.9%\n",
      "[libx264 @ 0x55fa28541d00] ref B L1: 97.5%  2.5%\n",
      "[libx264 @ 0x55fa28541d00] kb/s:909.71\n"
     ]
    },
    {
     "data": {
      "text/html": [
       "<video src=\"jnc00.mp4.0.x264.mp4\" controls  >\n",
       "      Your browser does not support the <code>video</code> element.\n",
       "    </video>"
      ],
      "text/plain": [
       "<IPython.core.display.Video object>"
      ]
     },
     "execution_count": 10,
     "metadata": {},
     "output_type": "execute_result"
    }
   ],
   "source": [
    "os.system(f\"rm {FILENAME[:-len('.mp4')]}.x264.mp4\")\n",
    "os.system(f\"ffmpeg -i {FILENAME} -vcodec libx264 {FILENAME[:-len('.mp4')]}.x264.mp4\")\n",
    "Video(f\"{FILENAME[:-len('.mp4')]}.x264.mp4\")"
   ]
  },
  {
   "cell_type": "code",
   "execution_count": null,
   "metadata": {},
   "outputs": [],
   "source": []
  }
 ],
 "metadata": {
  "kernelspec": {
   "display_name": ".venv",
   "language": "python",
   "name": "python3"
  },
  "language_info": {
   "codemirror_mode": {
    "name": "ipython",
    "version": 3
   },
   "file_extension": ".py",
   "mimetype": "text/x-python",
   "name": "python",
   "nbconvert_exporter": "python",
   "pygments_lexer": "ipython3",
   "version": "3.12.5"
  }
 },
 "nbformat": 4,
 "nbformat_minor": 2
}
